{
 "cells": [
  {
   "cell_type": "markdown",
   "metadata": {},
   "source": [
    "# **APRESENTAÇÃO E INTRODUÇÃO AO CURSO**"
   ]
  },
  {
   "cell_type": "markdown",
   "metadata": {},
   "source": [
    "# 1. Visão Geral do Curso"
   ]
  },
  {
   "cell_type": "markdown",
   "metadata": {},
   "source": [
    "## 1.1. Introdução: O que é CC?\n",
    "\n",
    "> Conhecimentos envolvidos, habilidades básicas e avançadas, conceitos básicos e \"Por onde começar\"?"
   ]
  },
  {
   "cell_type": "markdown",
   "metadata": {},
   "source": [
    "**CIENCIAS DA COMPUTAÇÃO**\n",
    "\n",
    "Uma ciencia surgida em meados do século 20. Englobando aspectos de varias areas do conhecimento:\n",
    "\n",
    "* Matemática\n",
    "* Engenharias \n",
    "* Ciências naturais\n",
    "* Arte\n",
    "* Esporte\n",
    "\n",
    "**Habilidades**\n",
    "\n",
    "Capacidade de resolver problemas reais de forma computacional.\n",
    "\n",
    "**1. Habilidades básicas**\n",
    "\n",
    "* Modelar computacionalmente problemas reais\n",
    "* Englobar soluções ao problema\n",
    " * Algoritmo\n",
    "* Escrever em uma linguagem um algoritmo que solucione o problema\n",
    "* Verificar a resolução do algoritmo \n",
    "\n",
    "**2. Habilidades avançadas**\n",
    "\n",
    "* Gerenciar softwares de grande porte composto por muitos programas\n",
    "* Contruir softwares para lidar com grande quantidade de dados\n",
    "* Gerenciar equipes de desenvolvimento de software\n",
    "* Comunicar com o usuário, para identificar problemas\n",
    "\n",
    "**3. Neste curso**\n",
    "\n",
    "* Habilidade em solucionar problemas\n",
    "* Aprender a programar\n",
    "\n",
    "***Conceitos Básicos***\n",
    "\n",
    "**Algoritmo**\n",
    "\n",
    "Uma lista de intruções passo-a-passo para resolver um determinado problema. \n",
    "\n",
    "*Funciona como uma receita de bolo:*\n",
    "\n",
    "> * Analisar o problema \n",
    "> * Criar um algoritmo genérico que resolva esse problema\n",
    "> * Escrever um programa que implemente esse algoritmo\n",
    "> * Testar o programa para verificar que ele realmente funciona\n",
    "\n",
    "**[1] Linguagem de Programação**\n",
    "\n",
    "Linguagens formais, precisas e cujas intruções podem ser executadas po um computador\n",
    "\n",
    "* Linguagem de baixo nivel \n",
    "\n",
    "\n",
    "     * Linguagem de maquina\n",
    "     * Linguagem de montagem (Assembly)\n",
    " \n",
    "* Linguagem de alto nivel \n",
    "\n",
    "\n",
    "     * Python\n",
    "     * Java\n",
    "     * Ruby\n",
    "     * C/C++\n",
    "     * JavaScript\n",
    "     * Muitas outras ... \n",
    "     \n",
    "**[2] Linguagem interpretada**\n",
    "\n",
    "> CÓDIGO FONTE --> INTERPRETADOR --> SAÍDA\n",
    "\n",
    "**[3] Linguagem compilada**\n",
    "\n",
    "> CÓDIGO FONTE --> COMPILADOR --> CÓDIGO OBJETO --> EXECUTADOR --> SAÍDA\n",
    "\n"
   ]
  },
  {
   "cell_type": "markdown",
   "metadata": {},
   "source": [
    "## 1.2. Introdução ao Python \n",
    "\n",
    "> Operadores aritméticos e relacionais"
   ]
  },
  {
   "cell_type": "markdown",
   "metadata": {},
   "source": [
    "**OPERADORES ARITMÉTICOS**\n",
    "\n",
    "* \"`+`\" é usado para adição\n",
    " \n",
    " \n",
    "* \"`-`\" é usado para subtração\n",
    "\n",
    "\n",
    "* \"`*`\" é usado para multiplicação\n",
    "\n",
    "\n",
    "* \"`/`\" é usado para divisão\n",
    "\n",
    "\n",
    "* \"`**`\" é usado para potenciação\n",
    "\n",
    "\n",
    "* \"`%`\" **(mod)** é usado para receber o resto da divisão do numero antes do % pelo depois dele\n",
    "\n",
    "\n",
    "* \"`//`\" **(div)** é usado para receber o quociente (numero natural) da divisão do numero antes de // pelo depois dele\n",
    "\n",
    "**OPERADORES RELACIONAIS**\n",
    "\n",
    "* \"`>`\" é usado para maior\n",
    "\n",
    "\n",
    "* \"`<`\" é usado para menor\n",
    "\n",
    "\n",
    "* \"`>=`\" é usado para maior ou igual\n",
    "\n",
    "\n",
    "* \"`<=`\" é usado para menor ou igual\n",
    "\n",
    "\n",
    "* \"`==`\" é usado para relacionar igualdades\n",
    "\n",
    "\n",
    "* \"`!=`\" é usado para relacionar fatores distintos"
   ]
  },
  {
   "cell_type": "markdown",
   "metadata": {},
   "source": [
    "## 1.3. Variáveis\n",
    "\n",
    "> Definição, nomenclatura, atribuição, print"
   ]
  },
  {
   "cell_type": "markdown",
   "metadata": {},
   "source": [
    "`\n",
    "x = 5 + 4 \n",
    "`\n",
    "\n",
    "> nesse momento a variável x possui seu valor igual à ` 9 `\n",
    "\n",
    "` x = x - 2 `\n",
    "\n",
    "> agora a variável possui seu valor igual à ` 9 - 2 = 7 `\n",
    "\n",
    "Portanto, a principal caracteristica de uma variável é ter seu valor sempre alterado na estrutura do codigo.\n",
    "\n",
    "* \"`=`\" é usado para indicar atribuição\n",
    "\n",
    "` x = 3 `\n",
    "\n",
    "  * a variavel com o **identificador** ` x ` recebe ` 3 `\n"
   ]
  },
  {
   "cell_type": "markdown",
   "metadata": {},
   "source": [
    "#### Exemplos:"
   ]
  },
  {
   "cell_type": "code",
   "execution_count": 1,
   "metadata": {},
   "outputs": [
    {
     "data": {
      "text/plain": [
       "-22.075982261787132"
      ]
     },
     "execution_count": 1,
     "metadata": {},
     "output_type": "execute_result"
    }
   ],
   "source": [
    "# Exemplo 1\n",
    "\n",
    "x = 5\n",
    "\n",
    "y = x ** (4 / 6)\n",
    "\n",
    "soma = y - (x ** 2)\n",
    "\n",
    "soma\n"
   ]
  },
  {
   "cell_type": "code",
   "execution_count": 2,
   "metadata": {},
   "outputs": [
    {
     "name": "stdout",
     "output_type": "stream",
     "text": [
      "-22.075982261787132\n"
     ]
    }
   ],
   "source": [
    "# Exemplo 2\n",
    "\n",
    "# ao inves de escrever o nome da variável podemos usar PRINT\n",
    "\n",
    "print (soma)"
   ]
  },
  {
   "cell_type": "markdown",
   "metadata": {},
   "source": [
    "#### Programa"
   ]
  },
  {
   "cell_type": "code",
   "execution_count": 4,
   "metadata": {},
   "outputs": [
    {
     "name": "stdout",
     "output_type": "stream",
     "text": [
      "A soma é 30 e a vale: 10 e b vale: 20\n",
      "A soma é 30 e a vale: 10 e b vale: 20\n",
      "A soma é 30 e a vale: 10 e b vale: 20\n"
     ]
    }
   ],
   "source": [
    "a = 10\n",
    "b = 20\n",
    "\n",
    "soma = a + b\n",
    "\n",
    "print (\"A soma é\", soma,\"e a vale:\",a,\"e b vale:\",b) #forma 1\n",
    "\n",
    "print(f\"A soma é {soma} e a vale: {a} e b vale: {b}\") #forma 2\n",
    "\n",
    "print(\"A soma é {} e a vale: {} e b vale: {}\".format(soma,a,b)) #forma 3"
   ]
  }
 ],
 "metadata": {
  "kernelspec": {
   "display_name": "Python 3.10.5 64-bit",
   "language": "python",
   "name": "python3"
  },
  "language_info": {
   "codemirror_mode": {
    "name": "ipython",
    "version": 3
   },
   "file_extension": ".py",
   "mimetype": "text/x-python",
   "name": "python",
   "nbconvert_exporter": "python",
   "pygments_lexer": "ipython3",
   "version": "3.10.5"
  },
  "orig_nbformat": 4,
  "vscode": {
   "interpreter": {
    "hash": "4604fddfbe3ec3d9d385c207fa0ddb9a05dfef66380401ad05b04bbd42d45367"
   }
  }
 },
 "nbformat": 4,
 "nbformat_minor": 2
}
