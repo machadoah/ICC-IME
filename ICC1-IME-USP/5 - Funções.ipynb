{
 "cells": [
  {
   "cell_type": "markdown",
   "id": "b0b1462f",
   "metadata": {},
   "source": [
    "# **FUNÇÕES**"
   ]
  },
  {
   "cell_type": "markdown",
   "id": "4a40c670",
   "metadata": {},
   "source": [
    "# 1. FUNÇÕES"
   ]
  },
  {
   "cell_type": "markdown",
   "id": "886408c0",
   "metadata": {},
   "source": [
    "    def soma (x,y)\n",
    "        \n",
    "        return x + y\n",
    "        \n",
    "    print(soma(10,20))  # o valor devolvido será 30"
   ]
  },
  {
   "cell_type": "markdown",
   "id": "2c67598f",
   "metadata": {},
   "source": [
    "Portanto, uma função é definida por ` def ` e os \"espações\" criados a serem preenchido que no exemplo acima é x e y. São chamados de parâmetros."
   ]
  },
  {
   "cell_type": "code",
   "execution_count": 2,
   "id": "89b842c0",
   "metadata": {},
   "outputs": [
    {
     "data": {
      "text/plain": [
       "(0.5, 0.5)"
      ]
     },
     "execution_count": 2,
     "metadata": {},
     "output_type": "execute_result"
    }
   ],
   "source": [
    "import math\n",
    "\n",
    "# o comando def indica que a seguir sera criada uma função\n",
    "\n",
    "def bhaskara (a,b,c):\n",
    "    \n",
    "    delta = b ** 2 - 4 * a * c\n",
    "    \n",
    "    radDelta = math.sqrt(delta)\n",
    "    \n",
    "    x1 = (- b + radDelta) / (2 * a)\n",
    "    \n",
    "    x2 = (- b - radDelta) / (2 * a)\n",
    "    \n",
    "    return (x1,x2)\n",
    "\n",
    "bhaskara(4,-4,1)"
   ]
  },
  {
   "cell_type": "code",
   "execution_count": 15,
   "id": "2c318917",
   "metadata": {},
   "outputs": [
    {
     "data": {
      "text/plain": [
       "3.4641016151377544"
      ]
     },
     "execution_count": 15,
     "metadata": {},
     "output_type": "execute_result"
    }
   ],
   "source": [
    "def raizQuadrada (x):\n",
    "    \n",
    "    y = math.sqrt(x)\n",
    "    \n",
    "    return y\n",
    "\n",
    "raizQuadrada(math.sqrt(144))"
   ]
  },
  {
   "cell_type": "markdown",
   "id": "9893c1fd",
   "metadata": {},
   "source": [
    "> Algo importante a ser citado, é que variaveis de uma função, podem utilizar mesmos identificadores, elas não se conflitam, pois estão armazenadas só no escopo da função"
   ]
  },
  {
   "cell_type": "code",
   "execution_count": 16,
   "id": "beef9cea",
   "metadata": {},
   "outputs": [
    {
     "data": {
      "text/plain": [
       "'São Paulo Futebol Clube'"
      ]
     },
     "execution_count": 16,
     "metadata": {},
     "output_type": "execute_result"
    }
   ],
   "source": [
    "def meuTime ():\n",
    "    \n",
    "    return \"São Paulo Futebol Clube\"\n",
    "\n",
    "meuTime()"
   ]
  },
  {
   "cell_type": "markdown",
   "id": "ad8a7a39",
   "metadata": {},
   "source": [
    "# 1.1. Desafios"
   ]
  },
  {
   "cell_type": "code",
   "execution_count": 22,
   "id": "fa30e49e",
   "metadata": {},
   "outputs": [
    {
     "name": "stdout",
     "output_type": "stream",
     "text": [
      "Insira o valor de n: 8\n",
      "Insira o valor de k: 3\n",
      "56.0\n"
     ]
    }
   ],
   "source": [
    "# Realize o calculo do binomio de newton\n",
    "\n",
    "n = int(input(\"Insira o valor de n: \"))\n",
    "k = int(input(\"Insira o valor de k: \"))\n",
    "\n",
    "binomioNewton = ( (math.factorial(n) / ((math.factorial(k) * (math.factorial(n - k))))))\n",
    "\n",
    "print(binomioNewton)"
   ]
  },
  {
   "cell_type": "code",
   "execution_count": 23,
   "id": "43392a1f",
   "metadata": {},
   "outputs": [
    {
     "data": {
      "text/plain": [
       "56"
      ]
     },
     "execution_count": 23,
     "metadata": {},
     "output_type": "execute_result"
    }
   ],
   "source": [
    "math.comb(8,3)"
   ]
  },
  {
   "cell_type": "code",
   "execution_count": 28,
   "id": "d2a871f4",
   "metadata": {},
   "outputs": [
    {
     "data": {
      "text/plain": [
       "24"
      ]
     },
     "execution_count": 28,
     "metadata": {},
     "output_type": "execute_result"
    }
   ],
   "source": [
    "# Criando a função fatorial\n",
    "\n",
    "def fatorial(n):\n",
    "    \n",
    "    fat = 1\n",
    "    \n",
    "    while n > 1:\n",
    "        \n",
    "        fat = fat * n \n",
    "        \n",
    "        n = n - 1\n",
    "        \n",
    "    return(fat)\n",
    "\n",
    "fatorial(4)"
   ]
  },
  {
   "cell_type": "code",
   "execution_count": 40,
   "id": "c3af88f4",
   "metadata": {},
   "outputs": [
    {
     "data": {
      "text/plain": [
       "56.0"
      ]
     },
     "execution_count": 40,
     "metadata": {},
     "output_type": "execute_result"
    }
   ],
   "source": [
    "def numeroBinomial (n,k):\n",
    "    \n",
    "    return fatorial(n) / (fatorial(k) * (fatorial(n-k)))\n",
    "\n",
    "numeroBinomial (8,3)"
   ]
  },
  {
   "cell_type": "markdown",
   "id": "abfc2fbe",
   "metadata": {},
   "source": [
    "# 2. Testes Automatizados\n",
    "\n",
    "> bateria de testes que cobre o máximo possível do seu código\n",
    "\n",
    "* normalmente é utilizado o pytest"
   ]
  },
  {
   "cell_type": "markdown",
   "id": "a1bef241",
   "metadata": {},
   "source": [
    "### Pytest"
   ]
  },
  {
   "cell_type": "code",
   "execution_count": 39,
   "id": "8efc7dae",
   "metadata": {},
   "outputs": [],
   "source": [
    "import pytest \n",
    "\n",
    "def funcao(x):\n",
    "    return x + 1\n",
    "\n",
    "def test_answer():\n",
    "    assert funcao(3) == 5"
   ]
  }
 ],
 "metadata": {
  "kernelspec": {
   "display_name": "Python 3 (ipykernel)",
   "language": "python",
   "name": "python3"
  },
  "language_info": {
   "codemirror_mode": {
    "name": "ipython",
    "version": 3
   },
   "file_extension": ".py",
   "mimetype": "text/x-python",
   "name": "python",
   "nbconvert_exporter": "python",
   "pygments_lexer": "ipython3",
   "version": "3.9.12"
  }
 },
 "nbformat": 4,
 "nbformat_minor": 5
}
