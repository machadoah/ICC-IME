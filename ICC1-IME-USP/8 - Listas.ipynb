{
 "cells": [
  {
   "cell_type": "markdown",
   "id": "18ac87e7",
   "metadata": {},
   "source": [
    "# LISTAS / ARRAY / VETOR\n"
   ]
  },
  {
   "cell_type": "markdown",
   "id": "38788b6b",
   "metadata": {},
   "source": [
    "# 1. Listas\n",
    "\n",
    "> definição, sintaxe e índices. Comandos: `len`, `type` e `append`"
   ]
  },
  {
   "cell_type": "markdown",
   "id": "a98d2a30",
   "metadata": {},
   "source": [
    "***LISTAS***\n",
    "\n",
    "* Coleção de objetos\n",
    "\n",
    "* **Exemplo :** 22,34,78.6,88"
   ]
  },
  {
   "cell_type": "code",
   "execution_count": 1,
   "id": "92608c06",
   "metadata": {},
   "outputs": [
    {
     "data": {
      "text/plain": [
       "['Eminêmcia Parda', 'As rosas não falam', 'Podres poderes', 'Round Midnight']"
      ]
     },
     "execution_count": 1,
     "metadata": {},
     "output_type": "execute_result"
    }
   ],
   "source": [
    "playlistDoAntonio = [\"Eminêmcia Parda\",\"As rosas não falam\",\"Podres poderes\", \"Round Midnight\"]\n",
    "\n",
    "playlistDoAntonio"
   ]
  },
  {
   "cell_type": "code",
   "execution_count": 3,
   "id": "ab91427d",
   "metadata": {},
   "outputs": [
    {
     "data": {
      "text/plain": [
       "[3, 4, 5, 6, 7, 9]"
      ]
     },
     "execution_count": 3,
     "metadata": {},
     "output_type": "execute_result"
    }
   ],
   "source": [
    "lis = [3,4,5,6,7,9]\n",
    "\n",
    "lis"
   ]
  },
  {
   "cell_type": "code",
   "execution_count": 4,
   "id": "80ef4c6c",
   "metadata": {},
   "outputs": [
    {
     "data": {
      "text/plain": [
       "'Eminêmcia Parda'"
      ]
     },
     "execution_count": 4,
     "metadata": {},
     "output_type": "execute_result"
    }
   ],
   "source": [
    "playlistDoAntonio[0]"
   ]
  },
  {
   "cell_type": "code",
   "execution_count": 11,
   "id": "1bde6a5e",
   "metadata": {},
   "outputs": [
    {
     "data": {
      "text/plain": [
       "9"
      ]
     },
     "execution_count": 11,
     "metadata": {},
     "output_type": "execute_result"
    }
   ],
   "source": [
    "lis[-1] #imprime o ultimo item da lista"
   ]
  },
  {
   "cell_type": "code",
   "execution_count": 12,
   "id": "dbb27a4b",
   "metadata": {},
   "outputs": [
    {
     "data": {
      "text/plain": [
       "7"
      ]
     },
     "execution_count": 12,
     "metadata": {},
     "output_type": "execute_result"
    }
   ],
   "source": [
    "lis[-2] #imprime o penultimo item da lista"
   ]
  },
  {
   "cell_type": "markdown",
   "id": "d01ed997",
   "metadata": {},
   "source": [
    "**LEN**"
   ]
  },
  {
   "cell_type": "code",
   "execution_count": 14,
   "id": "ee347031",
   "metadata": {},
   "outputs": [
    {
     "data": {
      "text/plain": [
       "4"
      ]
     },
     "execution_count": 14,
     "metadata": {},
     "output_type": "execute_result"
    }
   ],
   "source": [
    "len(playlistDoAntonio) #a quantidade de itens em uma lista"
   ]
  },
  {
   "cell_type": "markdown",
   "id": "687552bc",
   "metadata": {},
   "source": [
    "**TYPE**"
   ]
  },
  {
   "cell_type": "code",
   "execution_count": 18,
   "id": "459fa01e",
   "metadata": {},
   "outputs": [
    {
     "data": {
      "text/plain": [
       "str"
      ]
     },
     "execution_count": 18,
     "metadata": {},
     "output_type": "execute_result"
    }
   ],
   "source": [
    "type(playlistDoAntonio[3])"
   ]
  },
  {
   "cell_type": "markdown",
   "id": "544ff18c",
   "metadata": {},
   "source": [
    "**APPEND**"
   ]
  },
  {
   "cell_type": "code",
   "execution_count": 15,
   "id": "70467947",
   "metadata": {},
   "outputs": [],
   "source": [
    "playlistDoAntonio.append(\"Strawberry Fields Forever\")"
   ]
  },
  {
   "cell_type": "code",
   "execution_count": 16,
   "id": "646da1f2",
   "metadata": {},
   "outputs": [
    {
     "data": {
      "text/plain": [
       "['Eminêmcia Parda',\n",
       " 'As rosas não falam',\n",
       " 'Podres poderes',\n",
       " 'Round Midnight',\n",
       " 'Strawberry Fields Forever']"
      ]
     },
     "execution_count": 16,
     "metadata": {},
     "output_type": "execute_result"
    }
   ],
   "source": [
    "playlistDoAntonio"
   ]
  },
  {
   "cell_type": "code",
   "execution_count": 17,
   "id": "beb6b922",
   "metadata": {},
   "outputs": [
    {
     "data": {
      "text/plain": [
       "5"
      ]
     },
     "execution_count": 17,
     "metadata": {},
     "output_type": "execute_result"
    }
   ],
   "source": [
    "len(playlistDoAntonio)"
   ]
  },
  {
   "cell_type": "markdown",
   "id": "ed78a11e",
   "metadata": {},
   "source": [
    "**ALTERAR VALORES**"
   ]
  },
  {
   "cell_type": "code",
   "execution_count": 19,
   "id": "bdf177c6",
   "metadata": {},
   "outputs": [
    {
     "data": {
      "text/plain": [
       "['Eminêmcia Parda',\n",
       " 'As rosas não falam',\n",
       " 'Podres poderes',\n",
       " 'Round Midnight',\n",
       " 'Strawberry Fields Forever']"
      ]
     },
     "execution_count": 19,
     "metadata": {},
     "output_type": "execute_result"
    }
   ],
   "source": [
    "playlistDoAntonio"
   ]
  },
  {
   "cell_type": "code",
   "execution_count": 20,
   "id": "52597f41",
   "metadata": {},
   "outputs": [],
   "source": [
    "playlistDoAntonio[0] = \"Passarinhos\""
   ]
  },
  {
   "cell_type": "code",
   "execution_count": 21,
   "id": "36aa998a",
   "metadata": {},
   "outputs": [
    {
     "data": {
      "text/plain": [
       "['Passarinhos',\n",
       " 'As rosas não falam',\n",
       " 'Podres poderes',\n",
       " 'Round Midnight',\n",
       " 'Strawberry Fields Forever']"
      ]
     },
     "execution_count": 21,
     "metadata": {},
     "output_type": "execute_result"
    }
   ],
   "source": [
    "playlistDoAntonio"
   ]
  },
  {
   "cell_type": "markdown",
   "id": "77b6e346",
   "metadata": {},
   "source": [
    "# 2. Repetição com ***FOR***\n",
    "\n",
    "> comandos `for` e `range`"
   ]
  },
  {
   "cell_type": "markdown",
   "id": "80312029",
   "metadata": {},
   "source": [
    "**COMANDO for**\n",
    "    \n",
    "    for item in lista: \n",
    "        \n",
    "        COMANDO"
   ]
  },
  {
   "cell_type": "code",
   "execution_count": 22,
   "id": "afb0feaf",
   "metadata": {},
   "outputs": [],
   "source": [
    "frutasExoticas = [\"jabuticaba\",\"cupuaçu\",\"graviola\"]"
   ]
  },
  {
   "cell_type": "code",
   "execution_count": 25,
   "id": "e66bfffe",
   "metadata": {},
   "outputs": [
    {
     "name": "stdout",
     "output_type": "stream",
     "text": [
      "Eu adoro jabuticaba\n",
      "Eu adoro cupuaçu\n",
      "Eu adoro graviola\n"
     ]
    }
   ],
   "source": [
    "for fruta in frutasExoticas:\n",
    "    \n",
    "    print(\"Eu adoro \" + fruta) #concatenação"
   ]
  },
  {
   "cell_type": "markdown",
   "id": "4d298ecf",
   "metadata": {},
   "source": [
    "**FUNÇÃO range**\n",
    "    \n",
    "    range(20) #funciona como um \"intervalo\"\n",
    "    \n"
   ]
  },
  {
   "cell_type": "markdown",
   "id": "9b087f38",
   "metadata": {},
   "source": [
    "    for i in range(fim):\n",
    "        COMANDO\n"
   ]
  },
  {
   "cell_type": "code",
   "execution_count": 30,
   "id": "09c24e0c",
   "metadata": {},
   "outputs": [
    {
     "name": "stdout",
     "output_type": "stream",
     "text": [
      "0\t1\t2\t3\t4\t5\t6\t7\t8\t9\t10\t11\t12\t13\t14\t15\t16\t17\t18\t19\t"
     ]
    }
   ],
   "source": [
    "for i in range(20):\n",
    "    print(i, end = \"\\t\")"
   ]
  },
  {
   "cell_type": "markdown",
   "id": "b656878a",
   "metadata": {},
   "source": [
    "       for i in range(inicio, fim):\n",
    "        COMANDO\n"
   ]
  },
  {
   "cell_type": "code",
   "execution_count": 31,
   "id": "be5221e8",
   "metadata": {},
   "outputs": [
    {
     "name": "stdout",
     "output_type": "stream",
     "text": [
      "10\t11\t12\t13\t14\t15\t16\t17\t18\t19\t"
     ]
    }
   ],
   "source": [
    "for i in range(10,20):\n",
    "    print(i, end = \"\\t\")"
   ]
  },
  {
   "cell_type": "markdown",
   "id": "cfc905a1",
   "metadata": {},
   "source": [
    "       for i in range(inicio, fim, passo):\n",
    "        COMANDO"
   ]
  },
  {
   "cell_type": "code",
   "execution_count": 32,
   "id": "5cce8a64",
   "metadata": {},
   "outputs": [
    {
     "name": "stdout",
     "output_type": "stream",
     "text": [
      "0\t2\t4\t6\t8\t10\t12\t14\t16\t18\t"
     ]
    }
   ],
   "source": [
    "for i in range(0,20,2):\n",
    "    print(i, end = \"\\t\")"
   ]
  },
  {
   "cell_type": "code",
   "execution_count": 36,
   "id": "a973584f",
   "metadata": {},
   "outputs": [
    {
     "name": "stdout",
     "output_type": "stream",
     "text": [
      "0\t2\t4\t6\t8\t10\t12\t14\t16\t18\t20\t22\t24\t26\t28\t30\t32\t34\t36\t38\t"
     ]
    }
   ],
   "source": [
    "pares = range (0,40,2)\n",
    "\n",
    "for i in pares: print (i, end = \"\\t\")"
   ]
  },
  {
   "cell_type": "code",
   "execution_count": 41,
   "id": "5efeb6e4",
   "metadata": {},
   "outputs": [
    {
     "name": "stdout",
     "output_type": "stream",
     "text": [
      "100\t95\t90\t85\t80\t75\t70\t65\t60\t55\t50\t45\t40\t35\t30\t25\t20\t15\t10\t5\t"
     ]
    }
   ],
   "source": [
    "numerors = range(100,0,-5)\n",
    "\n",
    "for x in numerors: print (x, end = \"\\t\")"
   ]
  },
  {
   "cell_type": "markdown",
   "id": "3602741d",
   "metadata": {},
   "source": [
    "**Percorrer todas os objetos de uma lista com len**"
   ]
  },
  {
   "cell_type": "code",
   "execution_count": 49,
   "id": "a1b91e29",
   "metadata": {},
   "outputs": [
    {
     "data": {
      "text/plain": [
       "[2025, 207936, 321489, 1, 4, 1156, 25]"
      ]
     },
     "execution_count": 49,
     "metadata": {},
     "output_type": "execute_result"
    }
   ],
   "source": [
    "primos = [45,456,567,1,2,34,5]\n",
    "\n",
    "for j in range(len(primos)):\n",
    "    \n",
    "    primos[j] = primos[j] ** 2\n",
    "    \n",
    "quadradoDosPrimos = primos\n",
    "\n",
    "quadradoDosPrimos"
   ]
  },
  {
   "cell_type": "markdown",
   "id": "085507b8",
   "metadata": {},
   "source": [
    "# 3. Manipulação de listas\n",
    "\n",
    "> fatias de listas, clonando listas, pertinência a uma lista, concatenação(`+`), repetição(`*`) e remoção de listas (`del`)"
   ]
  },
  {
   "cell_type": "markdown",
   "id": "80281b0f",
   "metadata": {},
   "source": [
    "**FATIAS DE LISTAS**"
   ]
  },
  {
   "cell_type": "code",
   "execution_count": 71,
   "id": "27d36d49",
   "metadata": {},
   "outputs": [
    {
     "data": {
      "text/plain": [
       "[2025, 207936, 321489, 1, 4, 1156, 25]"
      ]
     },
     "execution_count": 71,
     "metadata": {},
     "output_type": "execute_result"
    }
   ],
   "source": [
    "quadradoDosPrimos"
   ]
  },
  {
   "cell_type": "code",
   "execution_count": 73,
   "id": "448d485d",
   "metadata": {},
   "outputs": [
    {
     "data": {
      "text/plain": [
       "[2025, 207936]"
      ]
     },
     "execution_count": 73,
     "metadata": {},
     "output_type": "execute_result"
    }
   ],
   "source": [
    "quadradoDosPrimos[0:2] #fatia dos itens 0 até o 1"
   ]
  },
  {
   "cell_type": "markdown",
   "id": "dba295f0",
   "metadata": {},
   "source": [
    "**CLONANDO LISTAS**"
   ]
  },
  {
   "cell_type": "code",
   "execution_count": 77,
   "id": "d1efca6f",
   "metadata": {},
   "outputs": [],
   "source": [
    "lista1 = [\"vermelho\",\"verde\",\"azul\"]"
   ]
  },
  {
   "cell_type": "code",
   "execution_count": 80,
   "id": "c2c80caa",
   "metadata": {},
   "outputs": [],
   "source": [
    "lista2 = lista1 #Vincula os dados das duas listas mas possuem unicas variaveis que compartilham alterações e append e etc ..."
   ]
  },
  {
   "cell_type": "code",
   "execution_count": 81,
   "id": "a34a6f08",
   "metadata": {},
   "outputs": [
    {
     "data": {
      "text/plain": [
       "['vermelho', 'verde', 'azul']"
      ]
     },
     "execution_count": 81,
     "metadata": {},
     "output_type": "execute_result"
    }
   ],
   "source": [
    "lista2"
   ]
  },
  {
   "cell_type": "code",
   "execution_count": 83,
   "id": "011d32d8",
   "metadata": {},
   "outputs": [
    {
     "data": {
      "text/plain": [
       "['rosa', 'verde', 'azul']"
      ]
     },
     "execution_count": 83,
     "metadata": {},
     "output_type": "execute_result"
    }
   ],
   "source": [
    "lista2[0] = \"rosa\"\n",
    "\n",
    "lista2"
   ]
  },
  {
   "cell_type": "code",
   "execution_count": 84,
   "id": "a2b57bf6",
   "metadata": {},
   "outputs": [
    {
     "data": {
      "text/plain": [
       "['rosa', 'verde', 'azul']"
      ]
     },
     "execution_count": 84,
     "metadata": {},
     "output_type": "execute_result"
    }
   ],
   "source": [
    "lista1"
   ]
  },
  {
   "attachments": {},
   "cell_type": "markdown",
   "id": "62ad29dc",
   "metadata": {},
   "source": [
    "**Função para clonar função**"
   ]
  },
  {
   "cell_type": "markdown",
   "id": "0a600562",
   "metadata": {},
   "source": [
    "    def clone(lista):\n",
    "    \n",
    "        clone[]\n",
    "        \n",
    "        for objeto in lista:\n",
    "        \n",
    "            clone.append(objeto))\n",
    "            \n",
    "         return clone\n",
    "         \n",
    "         \n",
    " **ou**\n",
    " \n",
    "     lista1[:]\n",
    "        "
   ]
  },
  {
   "cell_type": "code",
   "execution_count": 90,
   "id": "40e143a0",
   "metadata": {},
   "outputs": [],
   "source": [
    "lista3 = lista2[:]\n",
    "\n",
    "lista3[0] = \"vermelho\""
   ]
  },
  {
   "cell_type": "code",
   "execution_count": 91,
   "id": "c298196c",
   "metadata": {
    "scrolled": true
   },
   "outputs": [
    {
     "data": {
      "text/plain": [
       "['vermelho', 'verde', 'azul']"
      ]
     },
     "execution_count": 91,
     "metadata": {},
     "output_type": "execute_result"
    }
   ],
   "source": [
    "lista3"
   ]
  },
  {
   "cell_type": "code",
   "execution_count": 92,
   "id": "23cdc06b",
   "metadata": {
    "scrolled": true
   },
   "outputs": [
    {
     "data": {
      "text/plain": [
       "['rosa', 'verde', 'azul']"
      ]
     },
     "execution_count": 92,
     "metadata": {},
     "output_type": "execute_result"
    }
   ],
   "source": [
    "lista2"
   ]
  },
  {
   "cell_type": "markdown",
   "id": "f99764f7",
   "metadata": {},
   "source": [
    "**PERTINÊNCIA**"
   ]
  },
  {
   "cell_type": "code",
   "execution_count": 93,
   "id": "e7b78c5f",
   "metadata": {},
   "outputs": [
    {
     "data": {
      "text/plain": [
       "False"
      ]
     },
     "execution_count": 93,
     "metadata": {},
     "output_type": "execute_result"
    }
   ],
   "source": [
    "\"rosa\" in lista3"
   ]
  },
  {
   "cell_type": "code",
   "execution_count": 94,
   "id": "c2e63f7d",
   "metadata": {},
   "outputs": [
    {
     "data": {
      "text/plain": [
       "True"
      ]
     },
     "execution_count": 94,
     "metadata": {},
     "output_type": "execute_result"
    }
   ],
   "source": [
    "\"rosa\" in lista2"
   ]
  },
  {
   "cell_type": "code",
   "execution_count": 95,
   "id": "41b86181",
   "metadata": {
    "scrolled": true
   },
   "outputs": [
    {
     "name": "stdout",
     "output_type": "stream",
     "text": [
      "está\n"
     ]
    }
   ],
   "source": [
    "if \"rosa\" in lista1:\n",
    "    \n",
    "    print(\"está\")\n",
    "\n",
    "else: \n",
    "    print(\"não está\")"
   ]
  },
  {
   "cell_type": "markdown",
   "id": "83a6ff03",
   "metadata": {},
   "source": [
    "**CONCATENAÇÃO DE LISTAS**"
   ]
  },
  {
   "cell_type": "code",
   "execution_count": 96,
   "id": "5bd16b1e",
   "metadata": {},
   "outputs": [
    {
     "data": {
      "text/plain": [
       "[1, 2, 3, 3, 4, 5]"
      ]
     },
     "execution_count": 96,
     "metadata": {},
     "output_type": "execute_result"
    }
   ],
   "source": [
    "[1,2,3] + [3,4,5]"
   ]
  },
  {
   "cell_type": "code",
   "execution_count": 97,
   "id": "225643c6",
   "metadata": {},
   "outputs": [
    {
     "data": {
      "text/plain": [
       "[1, 2, 4, 4, 5, 6]"
      ]
     },
     "execution_count": 97,
     "metadata": {},
     "output_type": "execute_result"
    }
   ],
   "source": [
    "A = [1,2,4]\n",
    "B = [4,5,6]\n",
    "\n",
    "A + B"
   ]
  },
  {
   "cell_type": "markdown",
   "id": "714a476e",
   "metadata": {},
   "source": [
    "> O comando `append` altera uma lista já existente, diferente da concatenação"
   ]
  },
  {
   "cell_type": "markdown",
   "id": "05b87290",
   "metadata": {},
   "source": [
    "**REPETIÇÃO DE LISTAS**"
   ]
  },
  {
   "cell_type": "code",
   "execution_count": 99,
   "id": "98d2e8bb",
   "metadata": {},
   "outputs": [
    {
     "data": {
      "text/plain": [
       "[1, 2, 4, 1, 2, 4, 1, 2, 4]"
      ]
     },
     "execution_count": 99,
     "metadata": {},
     "output_type": "execute_result"
    }
   ],
   "source": [
    "aTriplicado = A * 3 #irá repetir a lista 3 vezes\n",
    "\n",
    "aTriplicado "
   ]
  },
  {
   "cell_type": "markdown",
   "id": "8e7a6bdb",
   "metadata": {},
   "source": [
    "**REMOÇÃO EM LISTAS**"
   ]
  },
  {
   "cell_type": "code",
   "execution_count": 100,
   "id": "c2d257da",
   "metadata": {},
   "outputs": [
    {
     "data": {
      "text/plain": [
       "[1, 2, 4]"
      ]
     },
     "execution_count": 100,
     "metadata": {},
     "output_type": "execute_result"
    }
   ],
   "source": [
    "A\n"
   ]
  },
  {
   "cell_type": "code",
   "execution_count": 101,
   "id": "aa515abf",
   "metadata": {},
   "outputs": [],
   "source": [
    "del A[1]"
   ]
  },
  {
   "cell_type": "code",
   "execution_count": 102,
   "id": "1f072920",
   "metadata": {},
   "outputs": [
    {
     "data": {
      "text/plain": [
       "[1, 4]"
      ]
     },
     "execution_count": 102,
     "metadata": {},
     "output_type": "execute_result"
    }
   ],
   "source": [
    "A"
   ]
  }
 ],
 "metadata": {
  "kernelspec": {
   "display_name": "Python 3 (ipykernel)",
   "language": "python",
   "name": "python3"
  },
  "language_info": {
   "codemirror_mode": {
    "name": "ipython",
    "version": 3
   },
   "file_extension": ".py",
   "mimetype": "text/x-python",
   "name": "python",
   "nbconvert_exporter": "python",
   "pygments_lexer": "ipython3",
   "version": "3.9.12"
  }
 },
 "nbformat": 4,
 "nbformat_minor": 5
}
