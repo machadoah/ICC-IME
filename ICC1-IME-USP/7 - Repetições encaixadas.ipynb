{
 "cells": [
  {
   "cell_type": "markdown",
   "id": "c78a5d73",
   "metadata": {},
   "source": [
    "# LAÇOS ANINHADOS & REPETIÇÕES ENCAIXADAS"
   ]
  },
  {
   "cell_type": "markdown",
   "id": "5c8708eb",
   "metadata": {},
   "source": [
    "    Repetições encaixadas\n",
    "    \n",
    "    while CONDIÇÃO:\n",
    "    \n",
    "        while CONDIÇÃO1:\n",
    "        \n",
    "            COMANDO"
   ]
  },
  {
   "cell_type": "code",
   "execution_count": 7,
   "id": "6734e5c4",
   "metadata": {},
   "outputs": [
    {
     "name": "stdout",
     "output_type": "stream",
     "text": [
      "1\t2\t3\t4\t5\t6\t7\t8\t9\t10\t\n",
      "2\t4\t6\t8\t10\t12\t14\t16\t18\t20\t\n",
      "3\t6\t9\t12\t15\t18\t21\t24\t27\t30\t\n",
      "4\t8\t12\t16\t20\t24\t28\t32\t36\t40\t\n",
      "5\t10\t15\t20\t25\t30\t35\t40\t45\t50\t\n",
      "6\t12\t18\t24\t30\t36\t42\t48\t54\t60\t\n",
      "7\t14\t21\t28\t35\t42\t49\t56\t63\t70\t\n",
      "8\t16\t24\t32\t40\t48\t56\t64\t72\t80\t\n",
      "9\t18\t27\t36\t45\t54\t63\t72\t81\t90\t\n",
      "10\t20\t30\t40\t50\t60\t70\t80\t90\t100\t\n"
     ]
    }
   ],
   "source": [
    "# Imprime a tabuada \n",
    "\n",
    "linha = 1\n",
    "\n",
    "coluna = 1\n",
    "\n",
    "while linha <= 10:\n",
    "    \n",
    "    while coluna <= 10:\n",
    "        \n",
    "        print(linha * coluna, end = \"\\t\") #permite que os valores sejam impressos em uma linha só\n",
    "        \n",
    "        coluna = coluna + 1\n",
    "        \n",
    "    linha = linha + 1\n",
    "    \n",
    "    print() #permite a troca de linha\n",
    "    \n",
    "    coluna = 1"
   ]
  },
  {
   "cell_type": "code",
   "execution_count": 16,
   "id": "830281c3",
   "metadata": {},
   "outputs": [
    {
     "name": "stdout",
     "output_type": "stream",
     "text": [
      "Insira um numero inteiro positivo: 3\n",
      "6\n",
      "Insira um numero inteiro positivo: 4\n",
      "24\n",
      "Insira um numero inteiro positivo: 0\n",
      "1\n",
      "Insira um numero inteiro positivo: 5\n",
      "120\n",
      "Insira um numero inteiro positivo: 1\n",
      "1\n",
      "Insira um numero inteiro positivo: -6\n"
     ]
    }
   ],
   "source": [
    "# Recebe uma sequencia de numeros e para cada numero digitado, forneça seu fatorial!\n",
    "\n",
    "n = int(input(\"Insira um numero inteiro positivo: \"))\n",
    "\n",
    "while n >= 0:\n",
    "\n",
    "    print(math.factorial(n))\n",
    "    \n",
    "    n = int(input(\"Insira um numero inteiro positivo: \"))\n",
    "    \n",
    "        "
   ]
  },
  {
   "cell_type": "code",
   "execution_count": 13,
   "id": "0bf1f52a",
   "metadata": {},
   "outputs": [
    {
     "name": "stdout",
     "output_type": "stream",
     "text": [
      "Digite uma sequencia de valores terminadas algum valor negativo\n",
      "Insira um numero a ser fatorado: 4\n",
      "O fatorial é: 24\n",
      "Insira um numero a ser fatorado: 3\n",
      "O fatorial é: 6\n",
      "Insira um numero a ser fatorado: 2\n",
      "O fatorial é: 2\n",
      "Insira um numero a ser fatorado: 1\n",
      "O fatorial é: 1\n",
      "Insira um numero a ser fatorado: 0\n",
      "O fatorial é: 1\n",
      "Insira um numero a ser fatorado: -43\n",
      "muito obrigado!\n"
     ]
    }
   ],
   "source": [
    "# Realize um algoritmo que receba varios numeros e quando se digitar 0, o algoritmo forneça o fatorial de cada numero digitado\n",
    "\n",
    "import math\n",
    "\n",
    "print(\"Digite uma sequencia de valores terminadas algum valor negativo\")\n",
    "\n",
    "soma = 0\n",
    "\n",
    "value = 1\n",
    "\n",
    "while value >= 0:\n",
    "    \n",
    "    value = int(input(\"Insira um numero a ser fatorado: \"))\n",
    "    \n",
    "    if value >= 0:\n",
    "    \n",
    "        fatorial = math.factorial(value)\n",
    "    \n",
    "        print(\"O fatorial é: {}\".format(fatorial))\n",
    "        \n",
    "    else:\n",
    "        print(\"muito obrigado!\")\n",
    "    \n",
    "    "
   ]
  },
  {
   "cell_type": "code",
   "execution_count": null,
   "id": "8200717c",
   "metadata": {},
   "outputs": [],
   "source": [
    "# dado um numero inteiro n (n>1) imprimir sua decomposição em fatores primos, indicando tambem a multiplicidade de cada fator\n",
    "\n",
    "# 8 = 2 * 2 * 2\n",
    "# 20 = 2 * 2 * 5\n",
    "# 1000 = 2 * 2 * 2 * 5 * 5 * 5\n",
    "\n",
    "n = int(input(\"Digite um numero inteiro maior que 1: \"))\n",
    "\n",
    "fator = 2\n",
    "\n",
    "multiplicidade = 0\n",
    "\n",
    "while n > 1:\n",
    "    while n % fator == 0:\n",
    "        \n",
    "        multiplicidade = multiplicidade + 1\n",
    "        n = n / fator\n",
    "    \n",
    "    if multiplicidade > 0:\n",
    "    \n",
    "        print (fator,\"possui sua multiplicidade =\", multiplicidade)\n",
    "    \n",
    "    fator = fator + 1\n",
    "    \n",
    "    multiplicidade = 0"
   ]
  }
 ],
 "metadata": {
  "kernelspec": {
   "display_name": "Python 3 (ipykernel)",
   "language": "python",
   "name": "python3"
  },
  "language_info": {
   "codemirror_mode": {
    "name": "ipython",
    "version": 3
   },
   "file_extension": ".py",
   "mimetype": "text/x-python",
   "name": "python",
   "nbconvert_exporter": "python",
   "pygments_lexer": "ipython3",
   "version": "3.9.12"
  }
 },
 "nbformat": 4,
 "nbformat_minor": 5
}
