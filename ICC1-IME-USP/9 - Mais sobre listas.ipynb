{
 "cells": [
  {
   "cell_type": "markdown",
   "id": "8f2d5bd1",
   "metadata": {},
   "source": [
    "# MAIS SOBRE LISTAS"
   ]
  },
  {
   "cell_type": "markdown",
   "id": "a1559991",
   "metadata": {},
   "source": [
    "# 1. Objetos na memória\n",
    "\n",
    "> objeto de memoria e suas referencias. Comando `is`"
   ]
  },
  {
   "cell_type": "markdown",
   "id": "6d6d569c",
   "metadata": {},
   "source": [
    "1 byte = 8 bits"
   ]
  },
  {
   "cell_type": "markdown",
   "id": "c64c525d",
   "metadata": {},
   "source": [
    "**OBJETOS E REFERÊNCIAS**"
   ]
  },
  {
   "cell_type": "code",
   "execution_count": 2,
   "id": "c1f82025",
   "metadata": {},
   "outputs": [],
   "source": [
    "a = \"banana\" #o computador amazena \"banana\" e em \"a\" ele lika o endereço onde \"banana\" está"
   ]
  },
  {
   "cell_type": "code",
   "execution_count": 4,
   "id": "b0ce7fa1",
   "metadata": {},
   "outputs": [],
   "source": [
    "b = \"banana\" #quanto o a como b direciona para banana pois, em python \"str\" e \"int\" são valores imutáveis"
   ]
  },
  {
   "cell_type": "code",
   "execution_count": 5,
   "id": "6537e26c",
   "metadata": {},
   "outputs": [
    {
     "data": {
      "text/plain": [
       "True"
      ]
     },
     "execution_count": 5,
     "metadata": {},
     "output_type": "execute_result"
    }
   ],
   "source": [
    "a is b #pergunta se ambas variáveis apontam para o mesmo objeto"
   ]
  },
  {
   "cell_type": "code",
   "execution_count": 6,
   "id": "7d4353ea",
   "metadata": {},
   "outputs": [],
   "source": [
    "j = [81,82,83]"
   ]
  },
  {
   "cell_type": "code",
   "execution_count": 7,
   "id": "fa52a7d0",
   "metadata": {},
   "outputs": [],
   "source": [
    "k = [81,82,83]"
   ]
  },
  {
   "cell_type": "code",
   "execution_count": 9,
   "id": "06e5f065",
   "metadata": {},
   "outputs": [
    {
     "data": {
      "text/plain": [
       "False"
      ]
     },
     "execution_count": 9,
     "metadata": {},
     "output_type": "execute_result"
    }
   ],
   "source": [
    "j is k #compara se objetos são iguais"
   ]
  },
  {
   "cell_type": "code",
   "execution_count": 10,
   "id": "f3e1c0d5",
   "metadata": {},
   "outputs": [
    {
     "data": {
      "text/plain": [
       "True"
      ]
     },
     "execution_count": 10,
     "metadata": {},
     "output_type": "execute_result"
    }
   ],
   "source": [
    "j == k #compara os valores dos objetos"
   ]
  },
  {
   "cell_type": "markdown",
   "id": "41c34ee8",
   "metadata": {},
   "source": [
    "**REPETIÇÕES E REFERÊNCIAS**"
   ]
  },
  {
   "cell_type": "code",
   "execution_count": 11,
   "id": "9a2e2d88",
   "metadata": {},
   "outputs": [
    {
     "data": {
      "text/plain": [
       "[41, 92, 82, 41, 92, 82, 41, 92, 82]"
      ]
     },
     "execution_count": 11,
     "metadata": {},
     "output_type": "execute_result"
    }
   ],
   "source": [
    "originalList = [41,92,82]\n",
    "\n",
    "originalList * 3"
   ]
  },
  {
   "cell_type": "code",
   "execution_count": 13,
   "id": "8a70839e",
   "metadata": {},
   "outputs": [],
   "source": [
    "newList = [originalList] * 3"
   ]
  },
  {
   "cell_type": "code",
   "execution_count": 14,
   "id": "25a87aa1",
   "metadata": {},
   "outputs": [],
   "source": [
    "originalList[1] = 99"
   ]
  },
  {
   "cell_type": "code",
   "execution_count": 15,
   "id": "8b7df1f7",
   "metadata": {},
   "outputs": [
    {
     "data": {
      "text/plain": [
       "[41, 99, 82]"
      ]
     },
     "execution_count": 15,
     "metadata": {},
     "output_type": "execute_result"
    }
   ],
   "source": [
    "originalList"
   ]
  },
  {
   "cell_type": "code",
   "execution_count": 17,
   "id": "943bd35f",
   "metadata": {},
   "outputs": [
    {
     "data": {
      "text/plain": [
       "[[41, 99, 82], [41, 99, 82], [41, 99, 82]]"
      ]
     },
     "execution_count": 17,
     "metadata": {},
     "output_type": "execute_result"
    }
   ],
   "source": [
    "newList #tambem teve seus valores alterados!"
   ]
  },
  {
   "cell_type": "markdown",
   "id": "d96f53d0",
   "metadata": {},
   "source": [
    "# Desafio"
   ]
  },
  {
   "cell_type": "code",
   "execution_count": 34,
   "id": "a3e7db0c",
   "metadata": {},
   "outputs": [
    {
     "name": "stdout",
     "output_type": "stream",
     "text": [
      "A menor temperatura do mes foi:  -12 °C.\n",
      "A maior temperatura do mes foi:  40 °C.\n"
     ]
    }
   ],
   "source": [
    "# Dada uma lista de temperaturas de um mês, informar qual a maior e a menor temperatura\n",
    "\n",
    "def minMax(temperaturas):\n",
    "    \n",
    "    print(\"A menor temperatura do mes foi: \", mínima(temperaturas), \"°C.\")\n",
    "    \n",
    "    print(\"A maior temperatura do mes foi: \", máxima(temperaturas), \"°C.\")\n",
    "    \n",
    "def máxima(temps):\n",
    "    max = temps[0]\n",
    "    i = 1\n",
    "    \n",
    "    while i < len(temps):\n",
    "        if temps[i] > max:\n",
    "            max = temps[i]\n",
    "            \n",
    "        i = i + 1\n",
    "        \n",
    "    return max\n",
    "\n",
    "\n",
    "def mínima(temps):\n",
    "    min = temps[0]\n",
    "    i = 1\n",
    "    \n",
    "    while i < len(temps):\n",
    "        if temps[i] < min:\n",
    "            min = temps[i]\n",
    "            \n",
    "        i = i + 1\n",
    "        \n",
    "    return min\n",
    "\n",
    "agosto = [13,14,12,16,17,20,14,17,18,20,20,21,22,23,27,32,37,40,11,8,9,4,3,2,-12,35,6,21,21,23]\n",
    "\n",
    "minMax(agosto)"
   ]
  }
 ],
 "metadata": {
  "kernelspec": {
   "display_name": "Python 3 (ipykernel)",
   "language": "python",
   "name": "python3"
  },
  "language_info": {
   "codemirror_mode": {
    "name": "ipython",
    "version": 3
   },
   "file_extension": ".py",
   "mimetype": "text/x-python",
   "name": "python",
   "nbconvert_exporter": "python",
   "pygments_lexer": "ipython3",
   "version": "3.9.12"
  }
 },
 "nbformat": 4,
 "nbformat_minor": 5
}
