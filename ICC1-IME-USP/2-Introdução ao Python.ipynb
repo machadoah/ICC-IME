{
 "cells": [
  {
   "cell_type": "markdown",
   "metadata": {},
   "source": [
    "# **INTRODUÇÃO AO PYTHON**"
   ]
  },
  {
   "cell_type": "markdown",
   "metadata": {},
   "source": [
    "# 1. Tipos de Dados"
   ]
  },
  {
   "cell_type": "markdown",
   "metadata": {},
   "source": [
    "## 1.1. Tipos, Conversão e comando **\"len\"**"
   ]
  },
  {
   "cell_type": "code",
   "execution_count": 1,
   "metadata": {},
   "outputs": [
    {
     "data": {
      "text/plain": [
       "int"
      ]
     },
     "execution_count": 1,
     "metadata": {},
     "output_type": "execute_result"
    }
   ],
   "source": [
    "type(10)"
   ]
  },
  {
   "cell_type": "code",
   "execution_count": 2,
   "metadata": {},
   "outputs": [
    {
     "data": {
      "text/plain": [
       "float"
      ]
     },
     "execution_count": 2,
     "metadata": {},
     "output_type": "execute_result"
    }
   ],
   "source": [
    "type(10/3)"
   ]
  },
  {
   "cell_type": "code",
   "execution_count": 3,
   "metadata": {},
   "outputs": [
    {
     "data": {
      "text/plain": [
       "str"
      ]
     },
     "execution_count": 3,
     "metadata": {},
     "output_type": "execute_result"
    }
   ],
   "source": [
    "type(\"oi\")"
   ]
  },
  {
   "cell_type": "code",
   "execution_count": 4,
   "metadata": {},
   "outputs": [
    {
     "data": {
      "text/plain": [
       "bool"
      ]
     },
     "execution_count": 4,
     "metadata": {},
     "output_type": "execute_result"
    }
   ],
   "source": [
    "type(7*9 == 98)"
   ]
  },
  {
   "cell_type": "markdown",
   "metadata": {},
   "source": [
    "**TIPOS DE DADOS**\n",
    "\n",
    "Existem diverso tipos de dados, entre eles:\n",
    "\n",
    "* ` int ` evidencia um dado numerico inteiro, ou seja um numero exato tanto negativo quanto positivo\n",
    "\n",
    "\n",
    "* ` float ` evidencia um dado numerico decimal, ou seja que possui casas depois da virgula. ` ex.: 1.34 ` \n",
    "\n",
    "\n",
    "* ` str ` evidencia um dado de texto, ou seja algo escrito atraves de caracteres\n",
    "\n",
    "\n",
    "* ` bool ` evidencia um dado lógico, portanto, assume verdairo ou falso"
   ]
  },
  {
   "cell_type": "markdown",
   "metadata": {},
   "source": [
    "**CONVERSÃO DE DADOS**"
   ]
  },
  {
   "cell_type": "code",
   "execution_count": 5,
   "metadata": {},
   "outputs": [
    {
     "name": "stdout",
     "output_type": "stream",
     "text": [
      "A baixo você verá o valor formatado em **float** \n",
      "23.518880208333336\n",
      "A baixo você verá o valor formatado em **int** \n",
      "23\n"
     ]
    }
   ],
   "source": [
    "peso = 86.7\n",
    "altura = 1.92\n",
    "\n",
    "IMCInteiro = peso / (altura ** 2) \n",
    "\n",
    "print(\"A baixo você verá o valor formatado em **float** \")\n",
    "\n",
    "print(IMCInteiro)\n",
    "\n",
    "print(\"A baixo você verá o valor formatado em **int** \")\n",
    "\n",
    "print(int(IMCInteiro))"
   ]
  },
  {
   "cell_type": "markdown",
   "metadata": {},
   "source": [
    "**COMANDO LEN**\n",
    "\n",
    "> Fornece o tamanho do conteudo da variável!\n",
    "\n",
    "**ATENÇÃO**: SÓ DE VARIÁVEL DO TIPO **STRING**"
   ]
  },
  {
   "cell_type": "code",
   "execution_count": 6,
   "metadata": {},
   "outputs": [
    {
     "data": {
      "text/plain": [
       "8"
      ]
     },
     "execution_count": 6,
     "metadata": {},
     "output_type": "execute_result"
    }
   ],
   "source": [
    "saudacao = \"bom dia!\"\n",
    "\n",
    "len(saudacao) # emite a o \"tamanho\""
   ]
  },
  {
   "cell_type": "code",
   "execution_count": 7,
   "metadata": {},
   "outputs": [
    {
     "ename": "TypeError",
     "evalue": "object of type 'float' has no len()",
     "output_type": "error",
     "traceback": [
      "\u001b[1;31m---------------------------------------------------------------------------\u001b[0m",
      "\u001b[1;31mTypeError\u001b[0m                                 Traceback (most recent call last)",
      "\u001b[1;32mg:\\Meu Drive\\Jupyter Notebook\\#Coursera\\ICC1-IME-USP\\2-Introdução ao Python.ipynb Cell 13'\u001b[0m in \u001b[0;36m<cell line: 3>\u001b[1;34m()\u001b[0m\n\u001b[0;32m      <a href='vscode-notebook-cell:/g%3A/Meu%20Drive/Jupyter%20Notebook/%23Coursera/ICC1-IME-USP/2-Introdu%C3%A7%C3%A3o%20ao%20Python.ipynb#ch0000012?line=0'>1</a>\u001b[0m AproximacaoPI \u001b[39m=\u001b[39m \u001b[39m3.14\u001b[39m\n\u001b[1;32m----> <a href='vscode-notebook-cell:/g%3A/Meu%20Drive/Jupyter%20Notebook/%23Coursera/ICC1-IME-USP/2-Introdu%C3%A7%C3%A3o%20ao%20Python.ipynb#ch0000012?line=2'>3</a>\u001b[0m \u001b[39mlen\u001b[39;49m(AproximacaoPI)\n",
      "\u001b[1;31mTypeError\u001b[0m: object of type 'float' has no len()"
     ]
    }
   ],
   "source": [
    "AproximacaoPI = 3.14\n",
    "\n",
    "len(AproximacaoPI) # Irá emitir erro, pois, a variavel é float e não string"
   ]
  },
  {
   "cell_type": "code",
   "execution_count": 8,
   "metadata": {},
   "outputs": [
    {
     "data": {
      "text/plain": [
       "4"
      ]
     },
     "execution_count": 8,
     "metadata": {},
     "output_type": "execute_result"
    }
   ],
   "source": [
    "len(str(AproximacaoPI))"
   ]
  },
  {
   "cell_type": "markdown",
   "metadata": {},
   "source": [
    "# 2. Entrada de Dados"
   ]
  },
  {
   "cell_type": "markdown",
   "metadata": {},
   "source": [
    "## 2.1. Comando **INPUT**\n",
    "\n",
    "> Entrada de dados pelo usuário"
   ]
  },
  {
   "cell_type": "markdown",
   "metadata": {},
   "source": [
    "**INPUT**\n",
    "\n",
    "O programa, permitira o usuário inserir dados"
   ]
  },
  {
   "cell_type": "markdown",
   "metadata": {},
   "source": [
    "#### Exemplos:\n",
    "\n",
    "##### 1) Realize um algoritmo que converta Fahrenheit para Celcius\n",
    "\n",
    "<u> **Formula** </u>\n",
    "\n",
    "` C / 5 = (F-32)/9  `"
   ]
  },
  {
   "cell_type": "code",
   "execution_count": 9,
   "metadata": {},
   "outputs": [
    {
     "name": "stdout",
     "output_type": "stream",
     "text": [
      "A temperatura em Fahrenheit em celcius é 25.555555555555557\n"
     ]
    }
   ],
   "source": [
    "# Exemplo sem input\n",
    "\n",
    "temperaturaFahrenheit = 78\n",
    "\n",
    "temperaturaCelcius = ((temperaturaFahrenheit - 32) * 5) / 9\n",
    "\n",
    "print(f\"A temperatura em Fahrenheit em celcius é {temperaturaCelcius}\")"
   ]
  },
  {
   "cell_type": "code",
   "execution_count": 10,
   "metadata": {},
   "outputs": [
    {
     "name": "stdout",
     "output_type": "stream",
     "text": [
      "A temperatura em Fahrenheit em celcius é 25.555555555555557\n"
     ]
    }
   ],
   "source": [
    "# Exemplo com input\n",
    "\n",
    "temperaturaFahrenheit = float(input(\"Insira a temperatura em °F: \")) # Converter para Float, pois, input sempre retorna str\n",
    "\n",
    "temperaturaCelcius = ((temperaturaFahrenheit - 32) * 5) / 9\n",
    "\n",
    "print(f\"A temperatura em Fahrenheit em celcius é {temperaturaCelcius}\")"
   ]
  },
  {
   "cell_type": "markdown",
   "metadata": {},
   "source": [
    "> O input permite um dinamica no programa, não fazendo necessario sempre alterar os dados do algoritmo, se trata, portanto, da criação de um algoritmo genérico"
   ]
  },
  {
   "cell_type": "markdown",
   "metadata": {},
   "source": [
    "##### 2) Realize um algoritmo que dê bom dia para seu pai e sua mãe"
   ]
  },
  {
   "cell_type": "code",
   "execution_count": 11,
   "metadata": {},
   "outputs": [
    {
     "name": "stdout",
     "output_type": "stream",
     "text": [
      "Bom dia Senhor João e Bom dia Senhora Maria\n"
     ]
    }
   ],
   "source": [
    "nomeDaMae = input(\"Qual o nome da sua mãe? \")\n",
    "nomeDoPai = input(\"Qual o nome do seu pai? \")\n",
    "\n",
    "print(\"Bom dia Senhor {0} e Bom dia Senhora {1}\".format(nomeDoPai,nomeDaMae))"
   ]
  },
  {
   "cell_type": "markdown",
   "metadata": {},
   "source": [
    "# 3. Exercício de Programação"
   ]
  },
  {
   "cell_type": "markdown",
   "metadata": {},
   "source": [
    "#### Exercicio 1: Converter segundos em horas, minutos e segundos"
   ]
  },
  {
   "cell_type": "code",
   "execution_count": 12,
   "metadata": {},
   "outputs": [
    {
     "name": "stdout",
     "output_type": "stream",
     "text": [
      "4 horas, 49 minutos e 5 segundos\n"
     ]
    }
   ],
   "source": [
    "totalSegundos = int(input(\"Por favor, entre com o número de segundo que deseja converter: \"))\n",
    "\n",
    "horas = totalSegundos // 3600\n",
    "\n",
    "restantesSegundos = totalSegundos % 3600\n",
    "\n",
    "minutos = restantesSegundos // 60\n",
    "\n",
    "segundos = restantesSegundos % 60\n",
    "\n",
    "print(\"{} horas, {} minutos e {} segundos\".format(horas,minutos,segundos))"
   ]
  },
  {
   "cell_type": "markdown",
   "metadata": {},
   "source": [
    "#### Exercicio 2: Converter segundos em dias, horas, minutos e segundos"
   ]
  },
  {
   "cell_type": "code",
   "execution_count": 13,
   "metadata": {},
   "outputs": [
    {
     "name": "stdout",
     "output_type": "stream",
     "text": [
      "dias 1, 9 horas, 20 minutos e 0 segundos\n"
     ]
    }
   ],
   "source": [
    "totalSegundos = int(input(\"Por favor, entre com o número de segundo que deseja converter: \"))\n",
    "\n",
    "dias = totalSegundos // (3600*24)\n",
    "\n",
    "restoDias = totalSegundos % (3600 * 24)\n",
    "\n",
    "horas = restoDias // 3600\n",
    "\n",
    "restoHoras = restoDias % 3600\n",
    "\n",
    "minutos = restoHoras // 60\n",
    "\n",
    "segundos = restoHoras % 60\n",
    "\n",
    "print(\"dias {}, {} horas, {} minutos e {} segundos\".format(dias,horas,minutos,segundos))"
   ]
  }
 ],
 "metadata": {
  "kernelspec": {
   "display_name": "Python 3.10.5 64-bit",
   "language": "python",
   "name": "python3"
  },
  "language_info": {
   "codemirror_mode": {
    "name": "ipython",
    "version": 3
   },
   "file_extension": ".py",
   "mimetype": "text/x-python",
   "name": "python",
   "nbconvert_exporter": "python",
   "pygments_lexer": "ipython3",
   "version": "3.10.5"
  },
  "orig_nbformat": 4,
  "vscode": {
   "interpreter": {
    "hash": "4604fddfbe3ec3d9d385c207fa0ddb9a05dfef66380401ad05b04bbd42d45367"
   }
  }
 },
 "nbformat": 4,
 "nbformat_minor": 2
}
